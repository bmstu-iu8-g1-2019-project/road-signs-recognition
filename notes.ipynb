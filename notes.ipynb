{
 "cells": [
  {
   "cell_type": "code",
   "execution_count": null,
   "metadata": {
    "scrolled": true
   },
   "outputs": [],
   "source": [
    "!pip install sklearn pillow"
   ]
  },
  {
   "cell_type": "code",
   "execution_count": 36,
   "metadata": {},
   "outputs": [],
   "source": [
    "from sklearn.model_selection import train_test_split\n",
    "import pandas as pd\n",
    "\n",
    "# Split dataset 3:1\n",
    "\n",
    "filename = 'train.csv'\n",
    "filename_to1 = 'train.csv'\n",
    "filename_to2 = 'validation.csv'\n",
    "from_label = 'class_number'\n",
    "\n",
    "df = pd.read_csv(filename)\n",
    "x = df.class_number\n",
    "y = df.drop(from_label, axis=1)\n",
    "x_train, x_test, y_train, y_test = train_test_split(\n",
    "    x, y, test_size=0.25, random_state=42\n",
    ")\n",
    "train = pd.concat([y_train, x_train], axis=1)\n",
    "train.to_csv(filename_to1, index=False)\n",
    "test = pd.concat([y_test, x_test], axis=1)\n",
    "test.to_csv(filename_to2, index=False)"
   ]
  },
  {
   "cell_type": "code",
   "execution_count": 38,
   "metadata": {},
   "outputs": [],
   "source": [
    "!mkdir train\n",
    "!mkdir validation\n",
    "!mkdir test"
   ]
  },
  {
   "cell_type": "code",
   "execution_count": 41,
   "metadata": {},
   "outputs": [],
   "source": [
    "import pandas as pd\n",
    "import shutil as sh\n",
    "\n",
    "# Copy files according to csv\n",
    "\n",
    "filename = 'validation.csv'\n",
    "path_from = 'dataset/'\n",
    "path_to = 'validation/'\n",
    "name_label = 'filename'\n",
    "pic_format = '.png'\n",
    "\n",
    "df = pd.read_csv(filename)\n",
    "new_data = []\n",
    "for index, row in df.iterrows():\n",
    "    new_name = str(index).zfill(6) + pic_format\n",
    "    sh.copyfile(path_from + row[name_label], path_to + new_name)\n",
    "    row[name_label] = new_name\n",
    "    new_data.append(row)\n",
    "pd.DataFrame(new_data, columns=list(df.columns)).to_csv(filename, index=False)"
   ]
  },
  {
   "cell_type": "code",
   "execution_count": null,
   "metadata": {},
   "outputs": [],
   "source": [
    "!rm -r old_train\n",
    "!rm gt_train.csv\n",
    "!mv gt_test.csv test.csv"
   ]
  },
  {
   "cell_type": "code",
   "execution_count": null,
   "metadata": {},
   "outputs": [],
   "source": [
    "import pandas as pd\n",
    "import numpy as np\n",
    "\n",
    "# Make csv with condition column\n",
    "\n",
    "filename = 'validation.csv'\n",
    "from_label = 'class_number'\n",
    "new_label = 'is_forward'\n",
    "criteria = 57\n",
    "\n",
    "df = pd.read_csv(filename)\n",
    "df[new_label] = np.where(df[from_label] == criteria, 1, 0)\n",
    "df.to_csv(filename, index=False)"
   ]
  },
  {
   "cell_type": "code",
   "execution_count": null,
   "metadata": {},
   "outputs": [],
   "source": [
    "!mkdir dataset\n",
    "!cp -r train/ dataset/\n",
    "!cp -r validation/ dataset/\n",
    "!cp -r test/ dataset/"
   ]
  },
  {
   "cell_type": "code",
   "execution_count": null,
   "metadata": {},
   "outputs": [],
   "source": [
    "!tar -cvpJf dataset.tar.xz dataset"
   ]
  },
  {
   "cell_type": "code",
   "execution_count": null,
   "metadata": {},
   "outputs": [],
   "source": [
    "!mv train old_train\n",
    "!mv train.csv old_train.csv"
   ]
  },
  {
   "cell_type": "code",
   "execution_count": 50,
   "metadata": {},
   "outputs": [],
   "source": [
    "import pandas as pd\n",
    "import shutil as sh\n",
    "\n",
    "# Merges 2 csv's into one, also merges their directiories\n",
    "\n",
    "files = ['old_train.csv', 'validation.csv']\n",
    "paths_from = ['old_train/', 'validation/']\n",
    "path_to = 'train/'\n",
    "new_filename = 'train.csv'\n",
    "name_label = 'filename'\n",
    "pic_format = '.png'\n",
    "\n",
    "offset = 0\n",
    "data = []\n",
    "for file, path in zip(files, paths_from):\n",
    "    df = pd.read_csv(file)\n",
    "    for index, row in df.iterrows():\n",
    "        new_name = str(offset + index).zfill(6) + pic_format\n",
    "        sh.copyfile(path + row[name_label], path_to + new_name)\n",
    "        row[name_label] = new_name\n",
    "        data.append(row)\n",
    "    offset = len(data)\n",
    "pd.DataFrame(data).to_csv(new_filename,  index=False)"
   ]
  },
  {
   "cell_type": "code",
   "execution_count": 87,
   "metadata": {},
   "outputs": [],
   "source": [
    "import pandas as pd\n",
    "import collections as cs\n",
    "\n",
    "# Makes csv with data distribution by classes\n",
    "\n",
    "filename = 'total_train.csv'\n",
    "new_filename = 'train_count.csv'\n",
    "label = 'class_number'\n",
    "\n",
    "df = pd.read_csv(filename)\n",
    "cr = cs.Counter(df[label].values)\n",
    "new_df = pd.DataFrame.from_dict(cr, orient='index').reset_index()\n",
    "new_df.columns = (label, 'count')\n",
    "new_df.to_csv(new_filename, index=False)"
   ]
  },
  {
   "cell_type": "code",
   "execution_count": 74,
   "metadata": {
    "scrolled": false
   },
   "outputs": [
    {
     "data": {
      "image/png": "[encoded data removed]",
      "text/plain": [
       "<Figure size 1152x720 with 1 Axes>"
      ]
     },
     "metadata": {
      "needs_background": "light"
     },
     "output_type": "display_data"
    }
   ],
   "source": [
    "import matplotlib.pyplot as plt\n",
    "import pandas as pd\n",
    "\n",
    "# Plots data distribution by classes\n",
    "\n",
    "filename = 'test_count.csv'\n",
    "plot_filename = 'plot_t.png'\n",
    "first_label = 'class_number'\n",
    "second_label = 'count'\n",
    "plot_name = 'Signs count in dataset'\n",
    "\n",
    "df = pd.read_csv(filename)\n",
    "plt.figure(figsize=(16,10))\n",
    "plt.bar(df[first_label], height=df[second_label])\n",
    "plt.yscale('log')\n",
    "plt.ylabel(second_label)\n",
    "plt.xlabel(first_label)\n",
    "plt.title(plot_name)\n",
    "plt.savefig(plot_filename)"
   ]
  },
  {
   "cell_type": "code",
   "execution_count": null,
   "metadata": {
    "scrolled": true
   },
   "outputs": [],
   "source": [
    "import matplotlib.pyplot as plt\n",
    "import pandas as pd\n",
    "\n",
    "# Plots pie data distrubution by classes\n",
    "\n",
    "filename = 'classes_count.csv'\n",
    "plot_filename = 'results/class_distribution.png'\n",
    "first_label = 'class_number'\n",
    "second_label = 'count'\n",
    "plot_name = 'Signs count in dataset'\n",
    "\n",
    "df = pd.read_csv(filename)\n",
    "plt.figure(figsize=(16,16))\n",
    "plt.title(plot_name, size=12)\n",
    "plt.pie(df[second_label], labels=df[first_label])\n",
    "plt.savefig(plot_filename)"
   ]
  },
  {
   "cell_type": "code",
   "execution_count": null,
   "metadata": {
    "scrolled": false
   },
   "outputs": [],
   "source": [
    "import matplotlib.pyplot as plt\n",
    "import pandas as pd\n",
    "\n",
    "# Plots train accuracy & loss\n",
    "\n",
    "filename = 'results/2019-09-27_13-37-53.csv'\n",
    "\n",
    "df = pd.read_csv(filename)\n",
    "ep = list(range(df.shape[0]))\n",
    "fig, axs = plt.subplots(nrows=2, figsize=(12,12))\n",
    "fig.suptitle('Model report', size=22)\n",
    "axs[0].plot(df['acc'])\n",
    "axs[0].set_title('Model accuracy', size=16)\n",
    "axs[0].grid(linewidth=1, linestyle='--')\n",
    "axs[0].set_ylabel('Loss')\n",
    "axs[0].set_xlabel('Epoch')\n",
    "axs[1].plot(df['loss'])\n",
    "axs[1].set_title('Model loss', size=16)\n",
    "axs[1].grid(linewidth=1, linestyle='--')\n",
    "axs[1].set_ylabel('Loss')\n",
    "axs[1].set_xlabel('Epoch')\n",
    "fig.savefig('results/train_report.png')"
   ]
  },
  {
   "cell_type": "code",
   "execution_count": null,
   "metadata": {},
   "outputs": [],
   "source": [
    "import pandas as pd\n",
    "\n",
    "# Makes dictionary with class weights\n",
    "\n",
    "filename = 'classes_count.csv'\n",
    "name_label = 'class_number'\n",
    "count_label = 'count'\n",
    "\n",
    "df = pd.read_csv(filename)\n",
    "mean = df[count_label].sum() / len(df.index)\n",
    "data = {row[name_label]: mean / row[count_label] for i, row in df.iterrows()}"
   ]
  },
  {
   "cell_type": "code",
   "execution_count": null,
   "metadata": {},
   "outputs": [],
   "source": [
    "!rm -rf results/*\n",
    "!mkdir results/tb_logs\n",
    "!mkdir results/models"
   ]
  },
  {
   "cell_type": "markdown",
   "metadata": {},
   "source": [
    "# Классификатор А1 (106 классов, 375 эпох)\n",
    "### Архитектура\n",
    "```\n",
    "Model: \"sequential_1\"\n",
    "_________________________________________________________________\n",
    "Layer (type) Output Shape Param #\n",
    "=================================================================\n",
    "conv2d_1 (Conv2D) (None, 45, 45, 64) 3136\n",
    "_________________________________________________________________\n",
    "max_pooling2d_1 (MaxPooling2 (None, 22, 22, 64) 0\n",
    "_________________________________________________________________\n",
    "conv2d_2 (Conv2D) (None, 20, 20, 80) 46160\n",
    "_________________________________________________________________\n",
    "max_pooling2d_2 (MaxPooling2 (None, 10, 10, 80) 0\n",
    "_________________________________________________________________\n",
    "conv2d_3 (Conv2D) (None, 8, 8, 96) 69216\n",
    "_________________________________________________________________\n",
    "max_pooling2d_3 (MaxPooling2 (None, 4, 4, 96) 0\n",
    "_________________________________________________________________\n",
    "conv2d_4 (Conv2D) (None, 2, 2, 112) 96880\n",
    "_________________________________________________________________\n",
    "flatten_1 (Flatten) (None, 448) 0\n",
    "_________________________________________________________________\n",
    "dropout_1 (Dropout) (None, 448) 0\n",
    "_________________________________________________________________\n",
    "dense_1 (Dense) (None, 192) 86208\n",
    "_________________________________________________________________\n",
    "dropout_2 (Dropout) (None, 192) 0\n",
    "_________________________________________________________________\n",
    "dense_2 (Dense) (None, 106) 20458\n",
    "=================================================================\n",
    "Total params: 322,058\n",
    "Trainable params: 322,058\n",
    "Non-trainable params: 0\n",
    "_________________________________________________________________\n",
    "```\n",
    "### Графики loss и accuracy\n",
    "<img src=\"results/train_report.png\">\n",
    "\n",
    "#### 300 эпоха:\n",
    "Loss на тестовом наборе: 0.790338609995404\n",
    "\n",
    "Accuracy на тестовом наборе: 0.948959979501115\n",
    "\n",
    "Prediction на 12 знаках:\n",
    "\n",
    "```\n",
    "[[9, 1.0], # неверно - 8\n",
    "[31, 1.0],\n",
    "[77, 1.0],\n",
    "[44, 1.0],\n",
    "[79, 1.0],\n",
    "[50, 1.0],\n",
    "[50, 1.0], # неверно - 55\n",
    "[79, 1.0],\n",
    "[65, 1.0],\n",
    "[103, 1.0],\n",
    "[80, 1.0],\n",
    "[79, 1.0]]\n",
    "```\n",
    "\n",
    "#### 150 эпоха:\n",
    "Loss на тестовом наборе: 0.1956598465714981\n",
    "\n",
    "Accuracy на тестовом наборе: 0.9695041216443687\n",
    "\n",
    "Prediction на 12 знаках:\n",
    "```\n",
    "[[9, 0.82056755], # неверно - 8\n",
    "[31, 1.0],\n",
    "[77, 1.0],\n",
    "[44, 1.0],\n",
    "[79, 1.0],\n",
    "[50, 1.0],\n",
    "[79, 0.8495217],  # неверно - 55\n",
    "[79, 1.0],\n",
    "[65, 1.0],\n",
    "[103, 1.0],\n",
    "[80, 1.0],\n",
    "[79, 1.0]]\n",
    "```"
   ]
  }
 ],
 "metadata": {
  "kernelspec": {
   "display_name": "Python 3",
   "language": "python",
   "name": "python3"
  },
  "language_info": {
   "codemirror_mode": {
    "name": "ipython",
    "version": 3
   },
   "file_extension": ".py",
   "mimetype": "text/x-python",
   "name": "python",
   "nbconvert_exporter": "python",
   "pygments_lexer": "ipython3",
   "version": "3.7.3"
  }
 },
 "nbformat": 4,
 "nbformat_minor": 2
}
