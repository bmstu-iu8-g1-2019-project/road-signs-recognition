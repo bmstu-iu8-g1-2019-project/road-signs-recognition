{
 "cells": [
  {
   "cell_type": "markdown",
   "metadata": {},
   "source": [
    "# Классификатор\n",
    "\n",
    "## Подготовка датасета\n",
    "\n",
    "Для обучения классификатора будем использовать подборку RTSD-R3, в которой представлены 106 классов различных знаков. Изображения заранее вырезаны и разбиты на две группы - для обучения и для тестирования - в отношении 3 к 1. Всего представлено 94 тысячи изображений."
   ]
  },
  {
   "cell_type": "markdown",
   "metadata": {},
   "source": [
    "Рассмотрим распределение сборок по классам:"
   ]
  },
  {
   "cell_type": "code",
   "execution_count": 9,
   "metadata": {},
   "outputs": [],
   "source": [
    "import collections as cs\n",
    "import pandas as pd\n",
    "\n",
    "\n",
    "def get_classes_counts(*, filename, new_filename, label):\n",
    "    df = pd.read_csv(filename)\n",
    "    cr = cs.Counter(df[label].values)\n",
    "    new_df = pd.DataFrame.from_dict(cr, orient='index').reset_index()\n",
    "    new_df.columns = (label, 'count')\n",
    "    new_df.to_csv(new_filename, index=False)\n",
    "\n",
    "\n",
    "get_classes_counts(filename='dataset/gt_test.csv',\n",
    "                   new_filename='dataset/gt_test_count.csv',\n",
    "                   label='class_number')\n",
    "get_classes_counts(filename='dataset/gt_train.csv',\n",
    "                   new_filename='dataset/gt_train_count.csv',\n",
    "                   label='class_number')"
   ]
  },
  {
   "cell_type": "code",
   "execution_count": 19,
   "metadata": {
    "scrolled": false
   },
   "outputs": [
    {
     "data": {
      "image/png": "[encoded data removed]",
      "text/plain": [
       "<Figure size 864x576 with 1 Axes>"
      ]
     },
     "metadata": {
      "needs_background": "light"
     },
     "output_type": "display_data"
    }
   ],
   "source": [
    "import matplotlib.pyplot as plt\n",
    "import pandas as pd\n",
    "\n",
    "\n",
    "plt.figure(figsize=(12,8))\n",
    "first = pd.read_csv('dataset/gt_train_count.csv')\n",
    "plt.bar(first['class_number'], height=first['count'])\n",
    "second = pd.read_csv('dataset/gt_test_count.csv')\n",
    "plt.bar(second['class_number'], height=second['count'])\n",
    "# plt.yscale('log')\n",
    "plt.legend(['Train', 'Test'], loc='upper left')\n",
    "plt.xlabel('Class number')\n",
    "plt.ylabel('Count')\n",
    "plt.title('Signs count in dataset')\n",
    "plt.savefig('results/report/test_train_dist.png')"
   ]
  },
  {
   "cell_type": "markdown",
   "metadata": {},
   "source": [
    "Из приведенного выше графика видно, что данные не распределены равномерно. Более того, некоторые класы вообще не присутствуют в тестовой выборке.\n",
    "\n",
    "Датасет придется снова собрать и уже затем случайно разбивать на выборки в заданном соотношении.\n",
    "Изспользуем 2.25 : 0.75 : 1"
   ]
  },
  {
   "cell_type": "code",
   "execution_count": 23,
   "metadata": {},
   "outputs": [],
   "source": [
    "import pandas as pd\n",
    "import shutil as sh\n",
    "\n",
    "\n",
    "def merge_csvs_and_dirs(*, files, paths_from,\n",
    "                        path_to, new_filename,\n",
    "                        name_label='filename',\n",
    "                        pic_format='.png'):\n",
    "    offset = 0\n",
    "    data = []\n",
    "    for file, path in zip(files, paths_from):\n",
    "        df = pd.read_csv(file)\n",
    "        for index, row in df.iterrows():\n",
    "            new_name = str(offset + index).zfill(6) + pic_format\n",
    "            sh.copyfile(path + row[name_label], path_to + new_name)\n",
    "            row[name_label] = new_name\n",
    "            data.append(row)\n",
    "        offset = len(data)\n",
    "    pd.DataFrame(data).to_csv(new_filename,  index=False)\n",
    "\n",
    "\n",
    "merge_csvs_and_dirs(files=['dataset/gt_train.csv', 'dataset/gt_test.csv'],\n",
    "                    paths_from=['dataset/train/', 'dataset/test/'],\n",
    "                    path_to='dataset/dataset/',\n",
    "                    new_filename='dataset/dataset.csv')"
   ]
  },
  {
   "cell_type": "code",
   "execution_count": null,
   "metadata": {},
   "outputs": [],
   "source": [
    "!rm dataset/gt_train.csv\n",
    "!rm dataset/gt_test.csv\n",
    "!rm -r dataset/train\n",
    "!rm -r dataset/test\n",
    "!mkdir dataset/train\n",
    "!mkdir dataset/test\n",
    "!mkdir dataset/validation"
   ]
  },
  {
   "cell_type": "code",
   "execution_count": 26,
   "metadata": {},
   "outputs": [],
   "source": [
    "from sklearn.model_selection import train_test_split\n",
    "import pandas as pd\n",
    "import shutil as sh\n",
    "\n",
    "\n",
    "def split_dataframe(*, filename, f_new_filename,\n",
    "                    s_new_filename, size_ratio,\n",
    "                    from_label):\n",
    "    df = pd.read_csv(filename)\n",
    "    x = df.class_number\n",
    "    y = df.drop(from_label, axis=1)\n",
    "    x_train, x_test, y_train, y_test = train_test_split(\n",
    "        x, y, test_size=size_ratio, random_state=42\n",
    "    )\n",
    "    train = pd.concat([y_train, x_train], axis=1)\n",
    "    train.to_csv(f_new_filename, index=False)\n",
    "    test = pd.concat([y_test, x_test], axis=1)\n",
    "    test.to_csv(s_new_filename, index=False)\n",
    "\n",
    "\n",
    "def move_with_csv(*, filename, path_from, path_to,\n",
    "                  name_label = 'filename',\n",
    "                  pic_format = '.png'):\n",
    "    df = pd.read_csv(filename)\n",
    "    new_data = []\n",
    "    for index, row in df.iterrows():\n",
    "        new_name = str(index).zfill(6) + pic_format\n",
    "        sh.copyfile(path_from + row[name_label], path_to + new_name)\n",
    "        row[name_label] = new_name\n",
    "        new_data.append(row)\n",
    "    pd.DataFrame(new_data, columns=list(df.columns)).to_csv(filename, index=False)\n",
    "\n",
    "\n",
    "split_dataframe(filename='dataset/dataset.csv',\n",
    "                f_new_filename='dataset/train.csv',\n",
    "                s_new_filename='dataset/test.csv',\n",
    "                size_ratio=0.25,\n",
    "                from_label='class_number')\n",
    "split_dataframe(filename='dataset/train.csv',\n",
    "                f_new_filename='dataset/train.csv',\n",
    "                s_new_filename='dataset/validation.csv',\n",
    "                size_ratio=0.25,\n",
    "                from_label='class_number')\n",
    "move_with_csv(filename = 'dataset/train.csv',\n",
    "              path_from = 'dataset/dataset/',\n",
    "              path_to = 'dataset/train/')\n",
    "move_with_csv(filename = 'dataset/test.csv',\n",
    "              path_from = 'dataset/dataset/',\n",
    "              path_to = 'dataset/test/')\n",
    "move_with_csv(filename = 'dataset/validation.csv',\n",
    "              path_from = 'dataset/dataset/',\n",
    "              path_to = 'dataset/validation/')"
   ]
  },
  {
   "cell_type": "markdown",
   "metadata": {},
   "source": [
    "Так же для уравнивания весов классов (так как датасет очень неоднороден), понадобится csv-файл с распределением по классам."
   ]
  },
  {
   "cell_type": "code",
   "execution_count": 38,
   "metadata": {},
   "outputs": [],
   "source": [
    "get_classes_counts(filename='dataset/train.csv',\n",
    "                   new_filename='dataset/classes_count.csv',\n",
    "                   label='class_number')"
   ]
  },
  {
   "cell_type": "markdown",
   "metadata": {},
   "source": [
    "Подготовка датасета завершена. Получили три необходимых набора: для обучения, для валидации и для тестирования."
   ]
  },
  {
   "cell_type": "markdown",
   "metadata": {},
   "source": [
    "# Обучение и обработка результатов\n",
    "\n",
    "В результате обучения получаем log-файл, содержащий loss и accuracy, характеризующие модель на каждой эпохе обучения. В моих моделях валидационная сборка прогонялась раз в две эпохи, поэтому метрики на этом этапе в логах не присутствуют."
   ]
  },
  {
   "cell_type": "markdown",
   "metadata": {},
   "source": [
    "### Визуализация метрик во время процесса обучения"
   ]
  },
  {
   "cell_type": "code",
   "execution_count": null,
   "metadata": {
    "scrolled": false
   },
   "outputs": [],
   "source": [
    "import matplotlib.pyplot as plt\n",
    "import pandas as pd\n",
    "\n",
    "filename = 'results/2019-09-27_13-37-53.csv'\n",
    "\n",
    "df = pd.read_csv(filename)\n",
    "ep = list(range(df.shape[0]))\n",
    "fig, axs = plt.subplots(nrows=2, figsize=(12,12))\n",
    "fig.suptitle('Model report', size=22)\n",
    "axs[0].plot(df['acc'])\n",
    "axs[0].set_title('Model accuracy', size=16)\n",
    "axs[0].grid(linewidth=1, linestyle='--')\n",
    "axs[0].set_ylabel('Loss')\n",
    "axs[0].set_xlabel('Epoch')\n",
    "axs[1].plot(df['loss'])\n",
    "axs[1].set_title('Model loss', size=16)\n",
    "axs[1].grid(linewidth=1, linestyle='--')\n",
    "axs[1].set_ylabel('Loss')\n",
    "axs[1].set_xlabel('Epoch')\n",
    "fig.savefig('results/train_report.png')"
   ]
  },
  {
   "cell_type": "markdown",
   "metadata": {},
   "source": [
    "# Классификатор А1 (106 классов, 375 эпох)\n",
    "### Архитектура\n",
    "\n",
    "<img src=\"results/report/A1_350.png\">\n",
    "\n",
    "```\n",
    "Total params: 322,058\n",
    "Trainable params: 322,058\n",
    "Non-trainable params: 0\n",
    "```\n",
    "\n",
    "### Графики loss и accuracy\n",
    "\n",
    "<img src=\"results/report/train_report.png\">\n",
    "\n",
    "#### 150 эпоха:\n",
    "Loss на тестовом наборе: 0.1956598465714981\n",
    "\n",
    "Accuracy на тестовом наборе: 0.9695041216443687\n",
    "\n",
    "Prediction на 12 знаках:\n",
    "```\n",
    "[[9, 0.82056755], # неверно - 8\n",
    "[31, 1.0],\n",
    "[77, 1.0],\n",
    "[44, 1.0],\n",
    "[79, 1.0],\n",
    "[50, 1.0],\n",
    "[79, 0.8495217],  # неверно - 55\n",
    "[79, 1.0],\n",
    "[65, 1.0],\n",
    "[103, 1.0],\n",
    "[80, 1.0],\n",
    "[79, 1.0]]\n",
    "```\n",
    "Неугаданные знаки:\n",
    "<img src=\"results/report/000000.png\" width=\"150\" height=\"150\">\n",
    "<img src=\"results/report/000006.png\" width=\"150\" height=\"150\">\n",
    "Причем в первом случае знак действительно похож на знак 9:\n",
    "<img src=\"dataset/test/000012.png\" width=\"150\" height=\"150\">\n",
    "А во втором случае знак в принципе не читаем."
   ]
  },
  {
   "cell_type": "code",
   "execution_count": null,
   "metadata": {},
   "outputs": [],
   "source": []
  }
 ],
 "metadata": {
  "kernelspec": {
   "display_name": "Python 3",
   "language": "python",
   "name": "python3"
  },
  "language_info": {
   "codemirror_mode": {
    "name": "ipython",
    "version": 3
   },
   "file_extension": ".py",
   "mimetype": "text/x-python",
   "name": "python",
   "nbconvert_exporter": "python",
   "pygments_lexer": "ipython3",
   "version": "3.7.3"
  }
 },
 "nbformat": 4,
 "nbformat_minor": 2
}
